{
 "cells": [
  {
   "cell_type": "code",
   "execution_count": 2,
   "id": "634637b0",
   "metadata": {},
   "outputs": [],
   "source": [
    "import pandas as pd\n",
    "import numpy as np\n",
    "import matplotlib as plt\n",
    "import datetime\n",
    "import os"
   ]
  },
  {
   "cell_type": "code",
   "execution_count": 26,
   "id": "410edbc9",
   "metadata": {},
   "outputs": [],
   "source": [
    "pnc_path = r\"C:\\Users\\willd\\OneDrive\\Desktop\\Budget\\statements\\pnc_csvs\"\n",
    "chase_path = r\"C:\\Users\\willd\\OneDrive\\Desktop\\Budget\\statements\\chase_csvs\""
   ]
  },
  {
   "cell_type": "code",
   "execution_count": 31,
   "id": "02b80ac3",
   "metadata": {},
   "outputs": [],
   "source": [
    "# combine multiple pnc statements\n",
    "def combine(path):\n",
    "    df_list = []\n",
    "    for item in os.listdir(path):\n",
    "        full_path = os.path.join(path, item)\n",
    "        df = pd.read_csv(full_path)\n",
    "        df_list.append(df)\n",
    "    combined = pd.concat(df_list)\n",
    "    combined.columns.values[0] = \"Date\"\n",
    "    no_dup = combined.drop_duplicates(subset=['Date', 'Description'], keep='first', inplace=False, ignore_index=True)\n",
    "    return no_dup\n",
    "\n",
    "# function to fill ammount column in the pnc dataframe \n",
    "def amount_fill(data):\n",
    "    if '$' in str(data['Withdrawals']):\n",
    "        amount = '-' + data['Withdrawals']\n",
    "    else:\n",
    "        amount = data['Deposits']\n",
    "    return float(amount.replace('$', '').replace(',', ''))"
   ]
  },
  {
   "cell_type": "code",
   "execution_count": 32,
   "id": "b86f979f",
   "metadata": {},
   "outputs": [],
   "source": [
    "pnc_full = combine(pnc_path)\n",
    "chase_full = combine(chase_path)"
   ]
  },
  {
   "cell_type": "code",
   "execution_count": 33,
   "id": "4cb640f9",
   "metadata": {},
   "outputs": [],
   "source": [
    "pnc_full['Amount'] = pnc_full.apply(amount_fill, axis=1)"
   ]
  },
  {
   "cell_type": "code",
   "execution_count": 35,
   "id": "71a249db",
   "metadata": {},
   "outputs": [],
   "source": [
    "# add catacories to pnc data frame \n",
    "df = pnc_full['Description']\n",
    "df2 = pnc_full['Amount']\n",
    "cat_condition = [(df.str.contains('VENMO')) & (df2 > 0), (df.str.contains('VENMO')) & (df2 < 0), (df.str.contains('SPOTIFY') | df.str.contains('APPLE')),\n",
    "                 (df.str.contains('ACTALENT')), (df.str.contains('CHECK'))\n",
    "                , (df.str.contains('SCHWAB BROK'))]\n",
    "cat_value = ['VENMO IN','VENMO OUT', 'SUBSCRIP', 'Belair', 'RENT', 'SCHWAB']\n",
    "pnc_full['Category'] = np.select(cat_condition, cat_value)\n",
    "# make a misc catagory of remaining  \n",
    "pnc_full.loc[pnc_full['Category'] == '0', 'Category'] = 'Misc'"
   ]
  },
  {
   "cell_type": "code",
   "execution_count": 40,
   "id": "be14b421",
   "metadata": {},
   "outputs": [],
   "source": [
    "# reduce both data frames to relevant columns\n",
    "chase_reduced = chase_full[[\"Date\", 'Description', \"Category\", \"Amount\"]]\n",
    "pnc_reduced = pnc_full[[\"Date\", 'Description', \"Category\", \"Amount\"]]\n",
    "\n",
    "# remove CC Payments from both \n",
    "pnc_no_cc = pnc_reduced[~pnc_reduced['Description'].str.contains('CHASE CREDIT CRD EPA')]\n",
    "# remove pnc transfers \n",
    "pnc_no_transfer = pnc_no_cc[~pnc_no_cc['Description'].str.contains('ONLINE TRANSFER')]\n",
    "chase_no_cc = chase_reduced[chase_reduced['Amount'] < 0]\n",
    "\n",
    "# combine pnc and chase for analysis \n",
    "both = [chase_no_cc, pnc_no_cc]\n",
    "full_df = pd.concat(both)\n",
    "\n",
    "# change date dtype\n",
    "full_df['Date'] = pd.to_datetime(full_df['Date'])\n",
    "\n",
    "#reduce data set to only include same months \n",
    "full_df = full_df[full_df['Date'] >= '2023-09-01']\n",
    "\n",
    "# add month column \n",
    "full_df['Month'] = pd.DatetimeIndex(full_df['Date']).month"
   ]
  },
  {
   "cell_type": "code",
   "execution_count": 41,
   "id": "fbb50259",
   "metadata": {},
   "outputs": [
    {
     "data": {
      "text/html": [
       "<div>\n",
       "<style scoped>\n",
       "    .dataframe tbody tr th:only-of-type {\n",
       "        vertical-align: middle;\n",
       "    }\n",
       "\n",
       "    .dataframe tbody tr th {\n",
       "        vertical-align: top;\n",
       "    }\n",
       "\n",
       "    .dataframe thead th {\n",
       "        text-align: right;\n",
       "    }\n",
       "</style>\n",
       "<table border=\"1\" class=\"dataframe\">\n",
       "  <thead>\n",
       "    <tr style=\"text-align: right;\">\n",
       "      <th></th>\n",
       "      <th>Date</th>\n",
       "      <th>Description</th>\n",
       "      <th>Category</th>\n",
       "      <th>Amount</th>\n",
       "      <th>Month</th>\n",
       "    </tr>\n",
       "  </thead>\n",
       "  <tbody>\n",
       "    <tr>\n",
       "      <th>1</th>\n",
       "      <td>2023-11-13</td>\n",
       "      <td>SONIC DRIVE IN #4415</td>\n",
       "      <td>Food &amp; Drink</td>\n",
       "      <td>-15.19</td>\n",
       "      <td>11</td>\n",
       "    </tr>\n",
       "    <tr>\n",
       "      <th>2</th>\n",
       "      <td>2023-11-10</td>\n",
       "      <td>BARRELS &amp;amp; BOTTLES</td>\n",
       "      <td>Food &amp; Drink</td>\n",
       "      <td>-71.56</td>\n",
       "      <td>11</td>\n",
       "    </tr>\n",
       "    <tr>\n",
       "      <th>3</th>\n",
       "      <td>2023-11-09</td>\n",
       "      <td>KING SOOPERS #0682 FUE</td>\n",
       "      <td>Gas</td>\n",
       "      <td>-55.20</td>\n",
       "      <td>11</td>\n",
       "    </tr>\n",
       "    <tr>\n",
       "      <th>4</th>\n",
       "      <td>2023-11-07</td>\n",
       "      <td>KING SOOPERS #0082</td>\n",
       "      <td>Groceries</td>\n",
       "      <td>-9.87</td>\n",
       "      <td>11</td>\n",
       "    </tr>\n",
       "    <tr>\n",
       "      <th>5</th>\n",
       "      <td>2023-11-07</td>\n",
       "      <td>MCDONALD'S F6010</td>\n",
       "      <td>Food &amp; Drink</td>\n",
       "      <td>-12.44</td>\n",
       "      <td>11</td>\n",
       "    </tr>\n",
       "    <tr>\n",
       "      <th>...</th>\n",
       "      <td>...</td>\n",
       "      <td>...</td>\n",
       "      <td>...</td>\n",
       "      <td>...</td>\n",
       "      <td>...</td>\n",
       "    </tr>\n",
       "    <tr>\n",
       "      <th>54</th>\n",
       "      <td>2023-09-13</td>\n",
       "      <td>ACH CREDIT      07987436 ACTALENT, INC.   DIR DEP</td>\n",
       "      <td>Belair</td>\n",
       "      <td>1188.78</td>\n",
       "      <td>9</td>\n",
       "    </tr>\n",
       "    <tr>\n",
       "      <th>55</th>\n",
       "      <td>2023-09-11</td>\n",
       "      <td>POS PURCHASE          POS10202026  5217430 Gre...</td>\n",
       "      <td>Misc</td>\n",
       "      <td>-41.43</td>\n",
       "      <td>9</td>\n",
       "    </tr>\n",
       "    <tr>\n",
       "      <th>56</th>\n",
       "      <td>2023-09-07</td>\n",
       "      <td>ACH DEBIT       XXXXX7472 SCHWAB BROKERAGE MON...</td>\n",
       "      <td>SCHWAB</td>\n",
       "      <td>-200.00</td>\n",
       "      <td>9</td>\n",
       "    </tr>\n",
       "    <tr>\n",
       "      <th>58</th>\n",
       "      <td>2023-09-06</td>\n",
       "      <td>ACH CREDIT      07987436 ACTALENT, INC.   DIR DEP</td>\n",
       "      <td>Belair</td>\n",
       "      <td>1223.55</td>\n",
       "      <td>9</td>\n",
       "    </tr>\n",
       "    <tr>\n",
       "      <th>60</th>\n",
       "      <td>2023-09-05</td>\n",
       "      <td>ACH WEB         XXXXX2168 VENMO            PAY...</td>\n",
       "      <td>VENMO OUT</td>\n",
       "      <td>-860.75</td>\n",
       "      <td>9</td>\n",
       "    </tr>\n",
       "  </tbody>\n",
       "</table>\n",
       "<p>107 rows × 5 columns</p>\n",
       "</div>"
      ],
      "text/plain": [
       "         Date                                        Description  \\\n",
       "1  2023-11-13                               SONIC DRIVE IN #4415   \n",
       "2  2023-11-10                              BARRELS &amp; BOTTLES   \n",
       "3  2023-11-09                             KING SOOPERS #0682 FUE   \n",
       "4  2023-11-07                                 KING SOOPERS #0082   \n",
       "5  2023-11-07                                   MCDONALD'S F6010   \n",
       "..        ...                                                ...   \n",
       "54 2023-09-13  ACH CREDIT      07987436 ACTALENT, INC.   DIR DEP   \n",
       "55 2023-09-11  POS PURCHASE          POS10202026  5217430 Gre...   \n",
       "56 2023-09-07  ACH DEBIT       XXXXX7472 SCHWAB BROKERAGE MON...   \n",
       "58 2023-09-06  ACH CREDIT      07987436 ACTALENT, INC.   DIR DEP   \n",
       "60 2023-09-05  ACH WEB         XXXXX2168 VENMO            PAY...   \n",
       "\n",
       "        Category   Amount  Month  \n",
       "1   Food & Drink   -15.19     11  \n",
       "2   Food & Drink   -71.56     11  \n",
       "3            Gas   -55.20     11  \n",
       "4      Groceries    -9.87     11  \n",
       "5   Food & Drink   -12.44     11  \n",
       "..           ...      ...    ...  \n",
       "54        Belair  1188.78      9  \n",
       "55          Misc   -41.43      9  \n",
       "56        SCHWAB  -200.00      9  \n",
       "58        Belair  1223.55      9  \n",
       "60     VENMO OUT  -860.75      9  \n",
       "\n",
       "[107 rows x 5 columns]"
      ]
     },
     "execution_count": 41,
     "metadata": {},
     "output_type": "execute_result"
    }
   ],
   "source": [
    "full_df"
   ]
  },
  {
   "cell_type": "code",
   "execution_count": 42,
   "id": "4599c850",
   "metadata": {},
   "outputs": [],
   "source": [
    "# remove venmo in > $500 from rent by mont \n",
    "month_list = full_df['Month'].unique()\n",
    "# full_df.loc[pnc_full[''] == '0', 'Category'] = 'Misc'\n",
    "#remove that venmo paymnet from money in \n"
   ]
  },
  {
   "cell_type": "code",
   "execution_count": 43,
   "id": "e55cf9ac",
   "metadata": {},
   "outputs": [
    {
     "data": {
      "text/plain": [
       "array([11, 10,  9], dtype=int64)"
      ]
     },
     "execution_count": 43,
     "metadata": {},
     "output_type": "execute_result"
    }
   ],
   "source": [
    "month_list"
   ]
  },
  {
   "cell_type": "code",
   "execution_count": null,
   "id": "4329552b",
   "metadata": {},
   "outputs": [],
   "source": []
  },
  {
   "cell_type": "code",
   "execution_count": 15,
   "id": "a60a91b6",
   "metadata": {},
   "outputs": [],
   "source": [
    "money_in = full_df[full_df['Amount'] > 0]\n",
    "money_out = full_df[full_df['Amount'] < 0]"
   ]
  },
  {
   "cell_type": "code",
   "execution_count": 16,
   "id": "0838ae82",
   "metadata": {},
   "outputs": [
    {
     "name": "stderr",
     "output_type": "stream",
     "text": [
      "C:\\Users\\willd\\AppData\\Local\\Temp\\ipykernel_2744\\2362525790.py:1: SettingWithCopyWarning: \n",
      "A value is trying to be set on a copy of a slice from a DataFrame.\n",
      "Try using .loc[row_indexer,col_indexer] = value instead\n",
      "\n",
      "See the caveats in the documentation: https://pandas.pydata.org/pandas-docs/stable/user_guide/indexing.html#returning-a-view-versus-a-copy\n",
      "  money_out['Amount'] = 0 - money_out['Amount']\n"
     ]
    }
   ],
   "source": [
    "money_out['Amount'] = 0 - money_out['Amount']"
   ]
  },
  {
   "cell_type": "code",
   "execution_count": 22,
   "id": "2d508eee",
   "metadata": {},
   "outputs": [
    {
     "data": {
      "text/html": [
       "<div>\n",
       "<style scoped>\n",
       "    .dataframe tbody tr th:only-of-type {\n",
       "        vertical-align: middle;\n",
       "    }\n",
       "\n",
       "    .dataframe tbody tr th {\n",
       "        vertical-align: top;\n",
       "    }\n",
       "\n",
       "    .dataframe thead th {\n",
       "        text-align: right;\n",
       "    }\n",
       "</style>\n",
       "<table border=\"1\" class=\"dataframe\">\n",
       "  <thead>\n",
       "    <tr style=\"text-align: right;\">\n",
       "      <th></th>\n",
       "      <th>Date</th>\n",
       "      <th>Description</th>\n",
       "      <th>Category</th>\n",
       "      <th>Amount</th>\n",
       "      <th>Month</th>\n",
       "    </tr>\n",
       "  </thead>\n",
       "  <tbody>\n",
       "    <tr>\n",
       "      <th>13</th>\n",
       "      <td>2023-10-27</td>\n",
       "      <td>ACH CREDIT      XXXXX5018 VENMO            CAS...</td>\n",
       "      <td>VENMO IN</td>\n",
       "      <td>850.00</td>\n",
       "      <td>10</td>\n",
       "    </tr>\n",
       "    <tr>\n",
       "      <th>35</th>\n",
       "      <td>2023-09-27</td>\n",
       "      <td>ACH CREDIT      XXXXX5291 VENMO            CAS...</td>\n",
       "      <td>VENMO IN</td>\n",
       "      <td>909.11</td>\n",
       "      <td>9</td>\n",
       "    </tr>\n",
       "  </tbody>\n",
       "</table>\n",
       "</div>"
      ],
      "text/plain": [
       "         Date                                        Description  Category  \\\n",
       "13 2023-10-27  ACH CREDIT      XXXXX5018 VENMO            CAS...  VENMO IN   \n",
       "35 2023-09-27  ACH CREDIT      XXXXX5291 VENMO            CAS...  VENMO IN   \n",
       "\n",
       "    Amount  Month  \n",
       "13  850.00     10  \n",
       "35  909.11      9  "
      ]
     },
     "execution_count": 22,
     "metadata": {},
     "output_type": "execute_result"
    }
   ],
   "source": [
    "money_in[money_in['Category'] == 'VENMO IN']"
   ]
  },
  {
   "cell_type": "code",
   "execution_count": 17,
   "id": "b5b09c1b",
   "metadata": {},
   "outputs": [],
   "source": [
    "expense_pivot = money_out.pivot_table(values='Amount', index='Month', columns='Category', aggfunc='sum')"
   ]
  },
  {
   "cell_type": "code",
   "execution_count": 100,
   "id": "3ff2fd13",
   "metadata": {},
   "outputs": [
    {
     "data": {
      "text/html": [
       "<div>\n",
       "<style scoped>\n",
       "    .dataframe tbody tr th:only-of-type {\n",
       "        vertical-align: middle;\n",
       "    }\n",
       "\n",
       "    .dataframe tbody tr th {\n",
       "        vertical-align: top;\n",
       "    }\n",
       "\n",
       "    .dataframe thead th {\n",
       "        text-align: right;\n",
       "    }\n",
       "</style>\n",
       "<table border=\"1\" class=\"dataframe\">\n",
       "  <thead>\n",
       "    <tr style=\"text-align: right;\">\n",
       "      <th>Category</th>\n",
       "      <th>Automotive</th>\n",
       "      <th>Bills &amp; Utilities</th>\n",
       "      <th>Entertainment</th>\n",
       "      <th>Food &amp; Drink</th>\n",
       "      <th>Gas</th>\n",
       "      <th>Groceries</th>\n",
       "      <th>Health &amp; Wellness</th>\n",
       "      <th>Home</th>\n",
       "      <th>Misc</th>\n",
       "      <th>RENT</th>\n",
       "      <th>SCHWAB</th>\n",
       "      <th>SUBSCRIP</th>\n",
       "      <th>Shopping</th>\n",
       "      <th>Travel</th>\n",
       "      <th>VENMO OUT</th>\n",
       "    </tr>\n",
       "    <tr>\n",
       "      <th>Month</th>\n",
       "      <th></th>\n",
       "      <th></th>\n",
       "      <th></th>\n",
       "      <th></th>\n",
       "      <th></th>\n",
       "      <th></th>\n",
       "      <th></th>\n",
       "      <th></th>\n",
       "      <th></th>\n",
       "      <th></th>\n",
       "      <th></th>\n",
       "      <th></th>\n",
       "      <th></th>\n",
       "      <th></th>\n",
       "      <th></th>\n",
       "    </tr>\n",
       "  </thead>\n",
       "  <tbody>\n",
       "    <tr>\n",
       "      <th>9</th>\n",
       "      <td>NaN</td>\n",
       "      <td>89.39</td>\n",
       "      <td>929.0</td>\n",
       "      <td>601.67</td>\n",
       "      <td>122.96</td>\n",
       "      <td>289.91</td>\n",
       "      <td>NaN</td>\n",
       "      <td>NaN</td>\n",
       "      <td>41.43</td>\n",
       "      <td>NaN</td>\n",
       "      <td>450.0</td>\n",
       "      <td>12.86</td>\n",
       "      <td>182.05</td>\n",
       "      <td>5.45</td>\n",
       "      <td>860.75</td>\n",
       "    </tr>\n",
       "    <tr>\n",
       "      <th>10</th>\n",
       "      <td>122.52</td>\n",
       "      <td>161.87</td>\n",
       "      <td>NaN</td>\n",
       "      <td>168.28</td>\n",
       "      <td>127.90</td>\n",
       "      <td>128.29</td>\n",
       "      <td>NaN</td>\n",
       "      <td>23.82</td>\n",
       "      <td>146.78</td>\n",
       "      <td>1560.0</td>\n",
       "      <td>2000.0</td>\n",
       "      <td>12.86</td>\n",
       "      <td>457.45</td>\n",
       "      <td>523.85</td>\n",
       "      <td>899.92</td>\n",
       "    </tr>\n",
       "    <tr>\n",
       "      <th>11</th>\n",
       "      <td>NaN</td>\n",
       "      <td>NaN</td>\n",
       "      <td>NaN</td>\n",
       "      <td>99.19</td>\n",
       "      <td>62.07</td>\n",
       "      <td>9.87</td>\n",
       "      <td>179.7</td>\n",
       "      <td>NaN</td>\n",
       "      <td>NaN</td>\n",
       "      <td>1680.0</td>\n",
       "      <td>NaN</td>\n",
       "      <td>NaN</td>\n",
       "      <td>25.78</td>\n",
       "      <td>NaN</td>\n",
       "      <td>320.82</td>\n",
       "    </tr>\n",
       "  </tbody>\n",
       "</table>\n",
       "</div>"
      ],
      "text/plain": [
       "Category  Automotive  Bills & Utilities  Entertainment  Food & Drink     Gas  \\\n",
       "Month                                                                          \n",
       "9                NaN              89.39          929.0        601.67  122.96   \n",
       "10            122.52             161.87            NaN        168.28  127.90   \n",
       "11               NaN                NaN            NaN         99.19   62.07   \n",
       "\n",
       "Category  Groceries  Health & Wellness   Home    Misc    RENT  SCHWAB  \\\n",
       "Month                                                                   \n",
       "9            289.91                NaN    NaN   41.43     NaN   450.0   \n",
       "10           128.29                NaN  23.82  146.78  1560.0  2000.0   \n",
       "11             9.87              179.7    NaN     NaN  1680.0     NaN   \n",
       "\n",
       "Category  SUBSCRIP  Shopping  Travel  VENMO OUT  \n",
       "Month                                            \n",
       "9            12.86    182.05    5.45     860.75  \n",
       "10           12.86    457.45  523.85     899.92  \n",
       "11             NaN     25.78     NaN     320.82  "
      ]
     },
     "execution_count": 100,
     "metadata": {},
     "output_type": "execute_result"
    }
   ],
   "source": [
    "expense_pivot"
   ]
  },
  {
   "cell_type": "code",
   "execution_count": 107,
   "id": "60112aea",
   "metadata": {},
   "outputs": [],
   "source": [
    "month_exp = money_out.groupby('Month').sum()\n",
    "month_inc = money_in.groupby('Month').sum()"
   ]
  },
  {
   "cell_type": "code",
   "execution_count": 108,
   "id": "1070ad4a",
   "metadata": {},
   "outputs": [
    {
     "name": "stdout",
     "output_type": "stream",
     "text": [
      "        Amount\n",
      "Month         \n",
      "9      3585.47\n",
      "10     6333.54\n",
      "11     2377.43\n",
      "        Amount\n",
      "Month         \n",
      "9      5699.02\n",
      "10     5650.98\n",
      "11     3566.36\n"
     ]
    }
   ],
   "source": [
    "print(month_exp)\n",
    "print(month_inc)"
   ]
  },
  {
   "cell_type": "code",
   "execution_count": 110,
   "id": "f7d8768b",
   "metadata": {},
   "outputs": [
    {
     "ename": "KeyError",
     "evalue": "0",
     "output_type": "error",
     "traceback": [
      "\u001b[1;31m---------------------------------------------------------------------------\u001b[0m",
      "\u001b[1;31mKeyError\u001b[0m                                  Traceback (most recent call last)",
      "\u001b[1;32m~\\anaconda3\\lib\\site-packages\\pandas\\core\\indexes\\base.py\u001b[0m in \u001b[0;36mget_loc\u001b[1;34m(self, key, method, tolerance)\u001b[0m\n\u001b[0;32m   3628\u001b[0m             \u001b[1;32mtry\u001b[0m\u001b[1;33m:\u001b[0m\u001b[1;33m\u001b[0m\u001b[1;33m\u001b[0m\u001b[0m\n\u001b[1;32m-> 3629\u001b[1;33m                 \u001b[1;32mreturn\u001b[0m \u001b[0mself\u001b[0m\u001b[1;33m.\u001b[0m\u001b[0m_engine\u001b[0m\u001b[1;33m.\u001b[0m\u001b[0mget_loc\u001b[0m\u001b[1;33m(\u001b[0m\u001b[0mcasted_key\u001b[0m\u001b[1;33m)\u001b[0m\u001b[1;33m\u001b[0m\u001b[1;33m\u001b[0m\u001b[0m\n\u001b[0m\u001b[0;32m   3630\u001b[0m             \u001b[1;32mexcept\u001b[0m \u001b[0mKeyError\u001b[0m \u001b[1;32mas\u001b[0m \u001b[0merr\u001b[0m\u001b[1;33m:\u001b[0m\u001b[1;33m\u001b[0m\u001b[1;33m\u001b[0m\u001b[0m\n",
      "\u001b[1;32m~\\anaconda3\\lib\\site-packages\\pandas\\_libs\\index.pyx\u001b[0m in \u001b[0;36mpandas._libs.index.IndexEngine.get_loc\u001b[1;34m()\u001b[0m\n",
      "\u001b[1;32m~\\anaconda3\\lib\\site-packages\\pandas\\_libs\\index.pyx\u001b[0m in \u001b[0;36mpandas._libs.index.IndexEngine.get_loc\u001b[1;34m()\u001b[0m\n",
      "\u001b[1;32mpandas\\_libs\\hashtable_class_helper.pxi\u001b[0m in \u001b[0;36mpandas._libs.hashtable.PyObjectHashTable.get_item\u001b[1;34m()\u001b[0m\n",
      "\u001b[1;32mpandas\\_libs\\hashtable_class_helper.pxi\u001b[0m in \u001b[0;36mpandas._libs.hashtable.PyObjectHashTable.get_item\u001b[1;34m()\u001b[0m\n",
      "\u001b[1;31mKeyError\u001b[0m: 0",
      "\nThe above exception was the direct cause of the following exception:\n",
      "\u001b[1;31mKeyError\u001b[0m                                  Traceback (most recent call last)",
      "\u001b[1;32m~\\AppData\\Local\\Temp\\ipykernel_9636\\2996574570.py\u001b[0m in \u001b[0;36m<module>\u001b[1;34m\u001b[0m\n\u001b[1;32m----> 1\u001b[1;33m \u001b[0mx\u001b[0m \u001b[1;33m=\u001b[0m \u001b[0mmonth_exp\u001b[0m\u001b[1;33m[\u001b[0m\u001b[1;36m0\u001b[0m\u001b[1;33m]\u001b[0m\u001b[1;33m\u001b[0m\u001b[1;33m\u001b[0m\u001b[0m\n\u001b[0m\u001b[0;32m      2\u001b[0m \u001b[0my1\u001b[0m \u001b[1;33m=\u001b[0m \u001b[0mmonth_exp\u001b[0m\u001b[1;33m[\u001b[0m\u001b[1;34m'Amount'\u001b[0m\u001b[1;33m]\u001b[0m\u001b[1;33m\u001b[0m\u001b[1;33m\u001b[0m\u001b[0m\n\u001b[0;32m      3\u001b[0m \u001b[0my2\u001b[0m \u001b[1;33m=\u001b[0m \u001b[0mmonth_inc\u001b[0m\u001b[1;33m[\u001b[0m\u001b[1;34m'Amount'\u001b[0m\u001b[1;33m]\u001b[0m\u001b[1;33m\u001b[0m\u001b[1;33m\u001b[0m\u001b[0m\n\u001b[0;32m      4\u001b[0m \u001b[0mplt\u001b[0m\u001b[1;33m.\u001b[0m\u001b[0mplot\u001b[0m\u001b[1;33m(\u001b[0m\u001b[0mx\u001b[0m\u001b[1;33m,\u001b[0m \u001b[0my1\u001b[0m\u001b[1;33m)\u001b[0m\u001b[1;33m\u001b[0m\u001b[1;33m\u001b[0m\u001b[0m\n",
      "\u001b[1;32m~\\anaconda3\\lib\\site-packages\\pandas\\core\\frame.py\u001b[0m in \u001b[0;36m__getitem__\u001b[1;34m(self, key)\u001b[0m\n\u001b[0;32m   3503\u001b[0m             \u001b[1;32mif\u001b[0m \u001b[0mself\u001b[0m\u001b[1;33m.\u001b[0m\u001b[0mcolumns\u001b[0m\u001b[1;33m.\u001b[0m\u001b[0mnlevels\u001b[0m \u001b[1;33m>\u001b[0m \u001b[1;36m1\u001b[0m\u001b[1;33m:\u001b[0m\u001b[1;33m\u001b[0m\u001b[1;33m\u001b[0m\u001b[0m\n\u001b[0;32m   3504\u001b[0m                 \u001b[1;32mreturn\u001b[0m \u001b[0mself\u001b[0m\u001b[1;33m.\u001b[0m\u001b[0m_getitem_multilevel\u001b[0m\u001b[1;33m(\u001b[0m\u001b[0mkey\u001b[0m\u001b[1;33m)\u001b[0m\u001b[1;33m\u001b[0m\u001b[1;33m\u001b[0m\u001b[0m\n\u001b[1;32m-> 3505\u001b[1;33m             \u001b[0mindexer\u001b[0m \u001b[1;33m=\u001b[0m \u001b[0mself\u001b[0m\u001b[1;33m.\u001b[0m\u001b[0mcolumns\u001b[0m\u001b[1;33m.\u001b[0m\u001b[0mget_loc\u001b[0m\u001b[1;33m(\u001b[0m\u001b[0mkey\u001b[0m\u001b[1;33m)\u001b[0m\u001b[1;33m\u001b[0m\u001b[1;33m\u001b[0m\u001b[0m\n\u001b[0m\u001b[0;32m   3506\u001b[0m             \u001b[1;32mif\u001b[0m \u001b[0mis_integer\u001b[0m\u001b[1;33m(\u001b[0m\u001b[0mindexer\u001b[0m\u001b[1;33m)\u001b[0m\u001b[1;33m:\u001b[0m\u001b[1;33m\u001b[0m\u001b[1;33m\u001b[0m\u001b[0m\n\u001b[0;32m   3507\u001b[0m                 \u001b[0mindexer\u001b[0m \u001b[1;33m=\u001b[0m \u001b[1;33m[\u001b[0m\u001b[0mindexer\u001b[0m\u001b[1;33m]\u001b[0m\u001b[1;33m\u001b[0m\u001b[1;33m\u001b[0m\u001b[0m\n",
      "\u001b[1;32m~\\anaconda3\\lib\\site-packages\\pandas\\core\\indexes\\base.py\u001b[0m in \u001b[0;36mget_loc\u001b[1;34m(self, key, method, tolerance)\u001b[0m\n\u001b[0;32m   3629\u001b[0m                 \u001b[1;32mreturn\u001b[0m \u001b[0mself\u001b[0m\u001b[1;33m.\u001b[0m\u001b[0m_engine\u001b[0m\u001b[1;33m.\u001b[0m\u001b[0mget_loc\u001b[0m\u001b[1;33m(\u001b[0m\u001b[0mcasted_key\u001b[0m\u001b[1;33m)\u001b[0m\u001b[1;33m\u001b[0m\u001b[1;33m\u001b[0m\u001b[0m\n\u001b[0;32m   3630\u001b[0m             \u001b[1;32mexcept\u001b[0m \u001b[0mKeyError\u001b[0m \u001b[1;32mas\u001b[0m \u001b[0merr\u001b[0m\u001b[1;33m:\u001b[0m\u001b[1;33m\u001b[0m\u001b[1;33m\u001b[0m\u001b[0m\n\u001b[1;32m-> 3631\u001b[1;33m                 \u001b[1;32mraise\u001b[0m \u001b[0mKeyError\u001b[0m\u001b[1;33m(\u001b[0m\u001b[0mkey\u001b[0m\u001b[1;33m)\u001b[0m \u001b[1;32mfrom\u001b[0m \u001b[0merr\u001b[0m\u001b[1;33m\u001b[0m\u001b[1;33m\u001b[0m\u001b[0m\n\u001b[0m\u001b[0;32m   3632\u001b[0m             \u001b[1;32mexcept\u001b[0m \u001b[0mTypeError\u001b[0m\u001b[1;33m:\u001b[0m\u001b[1;33m\u001b[0m\u001b[1;33m\u001b[0m\u001b[0m\n\u001b[0;32m   3633\u001b[0m                 \u001b[1;31m# If we have a listlike key, _check_indexing_error will raise\u001b[0m\u001b[1;33m\u001b[0m\u001b[1;33m\u001b[0m\u001b[0m\n",
      "\u001b[1;31mKeyError\u001b[0m: 0"
     ]
    }
   ],
   "source": [
    "x = month_exp[0]\n",
    "y1 = month_exp['Amount']\n",
    "y2 = month_inc['Amount']\n",
    "plt.plot(x, y1)"
   ]
  },
  {
   "cell_type": "code",
   "execution_count": 73,
   "id": "82c9c4fe",
   "metadata": {},
   "outputs": [
    {
     "name": "stdout",
     "output_type": "stream",
     "text": [
      "\n",
      "As of 2023-11-15 00:00:00, you have made a total of $13151.24\n",
      "And you have spent $10531.319999999998\n"
     ]
    }
   ],
   "source": [
    "ytd = money_in.loc[money_in['Category'] == 'Belair', 'Amount'].sum()\n",
    "othermoney = money_in.loc[money_in['Category'] != 'Belair', 'Amount'].sum()\n",
    "as_of = money_in['Date'].max()\n",
    "expense = money_out['Amount'].sum() - othermoney\n",
    "income_report = f\"\"\"\n",
    "As of {as_of}, you have made a total of ${ytd}\n",
    "And you have spent ${expense}\"\"\"\n",
    "print(income_report)"
   ]
  },
  {
   "cell_type": "code",
   "execution_count": null,
   "id": "a6cc2020",
   "metadata": {},
   "outputs": [],
   "source": []
  }
 ],
 "metadata": {
  "kernelspec": {
   "display_name": "Python 3 (ipykernel)",
   "language": "python",
   "name": "python3"
  },
  "language_info": {
   "codemirror_mode": {
    "name": "ipython",
    "version": 3
   },
   "file_extension": ".py",
   "mimetype": "text/x-python",
   "name": "python",
   "nbconvert_exporter": "python",
   "pygments_lexer": "ipython3",
   "version": "3.9.13"
  }
 },
 "nbformat": 4,
 "nbformat_minor": 5
}
